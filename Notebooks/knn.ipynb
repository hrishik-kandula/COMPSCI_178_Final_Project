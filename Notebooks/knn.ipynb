{
  "cells": [
    {
      "cell_type": "markdown",
      "metadata": {
        "id": "rbqnIYkJMEns"
      },
      "source": [
        "# Setup"
      ]
    },
    {
      "cell_type": "code",
      "execution_count": 10,
      "metadata": {
        "colab": {
          "base_uri": "https://localhost:8080/"
        },
        "id": "ZoQO6FEIKCFu",
        "outputId": "b8341b1c-63c7-4e23-edc8-a1196aec1256"
      },
      "outputs": [
        {
          "name": "stdout",
          "output_type": "stream",
          "text": [
            "Requirement already satisfied: ucimlrepo in c:\\users\\nguye\\miniconda3\\lib\\site-packages (0.0.7)\n",
            "Requirement already satisfied: pandas>=1.0.0 in c:\\users\\nguye\\miniconda3\\lib\\site-packages (from ucimlrepo) (2.2.3)\n",
            "Requirement already satisfied: certifi>=2020.12.5 in c:\\users\\nguye\\miniconda3\\lib\\site-packages (from ucimlrepo) (2025.4.26)\n",
            "Requirement already satisfied: numpy>=1.26.0 in c:\\users\\nguye\\miniconda3\\lib\\site-packages (from pandas>=1.0.0->ucimlrepo) (2.2.5)\n",
            "Requirement already satisfied: python-dateutil>=2.8.2 in c:\\users\\nguye\\miniconda3\\lib\\site-packages (from pandas>=1.0.0->ucimlrepo) (2.9.0.post0)\n",
            "Requirement already satisfied: pytz>=2020.1 in c:\\users\\nguye\\miniconda3\\lib\\site-packages (from pandas>=1.0.0->ucimlrepo) (2025.2)\n",
            "Requirement already satisfied: tzdata>=2022.7 in c:\\users\\nguye\\miniconda3\\lib\\site-packages (from pandas>=1.0.0->ucimlrepo) (2025.2)\n",
            "Requirement already satisfied: six>=1.5 in c:\\users\\nguye\\miniconda3\\lib\\site-packages (from python-dateutil>=2.8.2->pandas>=1.0.0->ucimlrepo) (1.17.0)\n"
          ]
        },
        {
          "name": "stderr",
          "output_type": "stream",
          "text": [
            "C:\\Users\\nguye\\miniconda3\\Lib\\site-packages\\IPython\\utils\\_process_win32.py:138: ResourceWarning: unclosed file <_io.BufferedWriter name=5>\n",
            "  res = process_handler(cmd, _system_body)\n",
            "ResourceWarning: Enable tracemalloc to get the object allocation traceback\n",
            "C:\\Users\\nguye\\miniconda3\\Lib\\site-packages\\IPython\\utils\\_process_win32.py:138: ResourceWarning: unclosed file <_io.BufferedReader name=6>\n",
            "  res = process_handler(cmd, _system_body)\n",
            "ResourceWarning: Enable tracemalloc to get the object allocation traceback\n",
            "C:\\Users\\nguye\\miniconda3\\Lib\\site-packages\\IPython\\utils\\_process_win32.py:138: ResourceWarning: unclosed file <_io.BufferedReader name=7>\n",
            "  res = process_handler(cmd, _system_body)\n",
            "ResourceWarning: Enable tracemalloc to get the object allocation traceback\n"
          ]
        }
      ],
      "source": [
        "import math\n",
        "import warnings\n",
        "from typing import List, Tuple\n",
        "\n",
        "import matplotlib.pyplot as plt\n",
        "import numpy as np\n",
        "import pandas as pd\n",
        "import scipy\n",
        "\n",
        "from sklearn.cluster import KMeans\n",
        "from sklearn.datasets import fetch_openml\n",
        "from sklearn.feature_extraction.text import CountVectorizer\n",
        "from sklearn.inspection import DecisionBoundaryDisplay\n",
        "from sklearn.linear_model import LogisticRegression\n",
        "from sklearn.metrics import (\n",
        "    accuracy_score,\n",
        "    confusion_matrix,\n",
        "    ConfusionMatrixDisplay,\n",
        "    roc_auc_score,\n",
        ")\n",
        "from sklearn.model_selection import train_test_split\n",
        "from sklearn.neighbors import KNeighborsClassifier, NearestCentroid\n",
        "from sklearn.neural_network import MLPClassifier\n",
        "from sklearn.preprocessing import StandardScaler\n",
        "from sklearn.tree import DecisionTreeClassifier, plot_tree\n",
        "from sklearn.impute import SimpleImputer\n",
        "from sklearn.metrics import classification_report\n",
        "from sklearn.feature_selection import SelectKBest, f_classif\n",
        "from sklearn.metrics import ConfusionMatrixDisplay\n",
        "import matplotlib.pyplot as plt\n",
        "from sklearn.metrics import roc_curve, auc\n",
        "from sklearn.linear_model import LogisticRegression\n",
        "import numpy as np\n",
        "import matplotlib.pyplot as plt\n",
        "from sklearn.base import clone\n",
        "from sklearn.metrics import accuracy_score\n",
        "\n",
        "\n",
        "\n",
        "!pip3 install -U ucimlrepo\n",
        "from ucimlrepo import fetch_ucirepo"
      ]
    },
    {
      "cell_type": "code",
      "execution_count": 25,
      "metadata": {},
      "outputs": [],
      "source": [
        "def save_df(df, name=\"temp\"):\n",
        "    \"\"\"\n",
        "    Saves the given DataFrame to a CSV file named '<name>.csv'\n",
        "    \"\"\"\n",
        "    filename = f\"{name}.csv\"\n",
        "    df.to_csv(filename, index=True)  # set index=False if you don't want to save the index\n",
        "    print(f\"Saved DataFrame to {filename}\")\n",
        "\n",
        "def clean_and_drop(X: pd.DataFrame, missing_threshold: float = 0.10) -> pd.DataFrame:\n",
        "    missing_ratios = X.isnull().mean()\n",
        "    to_drop = missing_ratios[missing_ratios > missing_threshold].index.tolist()\n",
        "    print(f\"Dropping columns due to missing data > {int(missing_threshold * 100)}%: {to_drop}\")\n",
        "    X = X.drop(columns=to_drop)\n",
        "\n",
        "    before = len(X)\n",
        "    X = X.dropna()\n",
        "    after = len(X)\n",
        "    print(f\"Dropped {before - after} rows with any remaining NaNs.\")\n",
        "\n",
        "    return X"
      ]
    },
    {
      "cell_type": "code",
      "execution_count": 19,
      "metadata": {
        "colab": {
          "base_uri": "https://localhost:8080/",
          "height": 401
        },
        "id": "bjBjPLH5K9pT",
        "outputId": "6f0b99d3-16d2-46f3-ef16-faa1aaf1d352"
      },
      "outputs": [
        {
          "name": "stdout",
          "output_type": "stream",
          "text": [
            "4783002\n",
            "4110004\n",
            "232165104\n"
          ]
        }
      ],
      "source": [
        "seed = 1234\n",
        "warnings.filterwarnings('ignore')\n",
        "diabetes_df = fetch_ucirepo(id=296)\n",
        "#warnings.resetwarnings()\n",
        "\n",
        "X = diabetes_df.data.features\n",
        "y = diabetes_df.data.targets\n",
        "\n",
        "# Clean and normalize the features\n",
        "X = clean_and_drop(X, missing_threshold=0.05)\n",
        "X = pd.get_dummies(X, drop_first=True)\n",
        "\n",
        "# Switch label to binary classification\n",
        "y = y.loc[X.index]\n",
        "y = y.replace({'<30': 1, 'NO': 0, '>30': 0})"
      ]
    },
    {
      "cell_type": "code",
      "execution_count": 30,
      "metadata": {},
      "outputs": [],
      "source": [
        "# First split: Train vs (Validation + Test)\n",
        "X_temp, X_test, y_temp, y_test = train_test_split(X, y, test_size=0.2, stratify=y, random_state=seed)\n",
        "\n",
        "# Second split: Train vs Validation (from the 80%)\n",
        "X_train, X_val, y_train, y_val = train_test_split(X_temp, y_temp, test_size=0.25, stratify=y_temp, random_state=seed)\n",
        "\n",
        "# Scale the data\n",
        "scaler = StandardScaler()\n",
        "X_train_scaled = scaler.fit_transform(X_train)\n",
        "X_val_scaled   = scaler.transform(X_val)\n",
        "X_test_scaled  = scaler.transform(X_test)"
      ]
    },
    {
      "cell_type": "markdown",
      "metadata": {
        "id": "cm6T0LTaNIa_"
      },
      "source": [
        "# Knn\n"
      ]
    },
    {
      "cell_type": "code",
      "execution_count": 33,
      "metadata": {
        "id": "zQvgCa94LFAq"
      },
      "outputs": [
        {
          "data": {
            "text/plain": [
              "<matplotlib.legend.Legend at 0x1eb4968dd10>"
            ]
          },
          "execution_count": 33,
          "metadata": {},
          "output_type": "execute_result"
        },
        {
          "data": {
            "image/png": "[encoded data removed]",
            "text/plain": [
              "<Figure size 600x600 with 1 Axes>"
            ]
          },
          "metadata": {},
          "output_type": "display_data"
        }
      ],
      "source": [
        "figure, axes = plt.subplots(1, figsize=(6, 6))\n",
        "k_vals = [1, 5, 10, 50, 100, 1000]\n",
        "axes.set_xlabel(\"K\")\n",
        "axes.set_ylabel(\"Error Rate\")\n",
        "te_error = []\n",
        "tr_error = []\n",
        "for k in k_vals:\n",
        "    knn = KNeighborsClassifier(n_neighbors=k)\n",
        "    knn.fit(X_train_scaled, y_train.values.ravel())\n",
        "    y_pred_te = knn.predict(X_val_scaled)\n",
        "    y_pred_tr = knn.predict(X_train_scaled)\n",
        "    e_te = 1 - accuracy_score(y_val.values.ravel(), y_pred_te)\n",
        "    e_tr = 1 - accuracy_score(y_train.values.ravel(), y_pred_tr)\n",
        "    te_error.append(e_te)\n",
        "    tr_error.append(e_tr)\n",
        "axes.semilogx(k_vals, te_error, color='red', label='Test')\n",
        "axes.semilogx(k_vals, tr_error, color='green', label='Train')\n",
        "axes.legend()\n",
        "\n"
      ]
    },
    {
      "cell_type": "code",
      "execution_count": null,
      "metadata": {},
      "outputs": [],
      "source": [
        "ConfusionMatrixDisplay.from_estimator(clf, X_val, y_val)\n",
        "plt.title(\"Logistic Regression - Confusion Matrix\")\n",
        "plt.show()"
      ]
    },
    {
      "cell_type": "markdown",
      "metadata": {
        "id": "HlHRf48jAgEi"
      },
      "source": [
        "Use this to compare other classifers with lower sample sizes"
      ]
    },
    {
      "cell_type": "code",
      "execution_count": 13,
      "metadata": {
        "id": "L3oOVOh4ARfj"
      },
      "outputs": [
        {
          "ename": "ValueError",
          "evalue": "x and y must have same first dimension, but have shapes (1,) and (5,)",
          "output_type": "error",
          "traceback": [
            "\u001b[31m---------------------------------------------------------------------------\u001b[39m",
            "\u001b[31mValueError\u001b[39m                                Traceback (most recent call last)",
            "\u001b[36mCell\u001b[39m\u001b[36m \u001b[39m\u001b[32mIn[13]\u001b[39m\u001b[32m, line 23\u001b[39m\n\u001b[32m     21\u001b[39m     te_error.append(e_te)\n\u001b[32m     22\u001b[39m     tr_error.append(e_tr)\n\u001b[32m---> \u001b[39m\u001b[32m23\u001b[39m \u001b[43maxes\u001b[49m\u001b[43m.\u001b[49m\u001b[43msemilogx\u001b[49m\u001b[43m(\u001b[49m\u001b[43mn\u001b[49m\u001b[43m,\u001b[49m\u001b[43m \u001b[49m\u001b[43mte_error\u001b[49m\u001b[43m,\u001b[49m\u001b[43m \u001b[49m\u001b[43mcolor\u001b[49m\u001b[43m=\u001b[49m\u001b[33;43m'\u001b[39;49m\u001b[33;43mred\u001b[39;49m\u001b[33;43m'\u001b[39;49m\u001b[43m,\u001b[49m\u001b[43m \u001b[49m\u001b[43mlabel\u001b[49m\u001b[43m=\u001b[49m\u001b[33;43m'\u001b[39;49m\u001b[33;43mTest\u001b[39;49m\u001b[33;43m'\u001b[39;49m\u001b[43m)\u001b[49m\n\u001b[32m     24\u001b[39m axes.semilogx(n, tr_error, color=\u001b[33m'\u001b[39m\u001b[33mgreen\u001b[39m\u001b[33m'\u001b[39m, label=\u001b[33m'\u001b[39m\u001b[33mTrain\u001b[39m\u001b[33m'\u001b[39m)\n\u001b[32m     25\u001b[39m axes.legend()\n",
            "\u001b[36mFile \u001b[39m\u001b[32m~\\miniconda3\\Lib\\site-packages\\matplotlib\\axes\\_axes.py:1965\u001b[39m, in \u001b[36mAxes.semilogx\u001b[39m\u001b[34m(self, *args, **kwargs)\u001b[39m\n\u001b[32m   1961\u001b[39m d = {k: v \u001b[38;5;28;01mfor\u001b[39;00m k, v \u001b[38;5;129;01min\u001b[39;00m kwargs.items()\n\u001b[32m   1962\u001b[39m      \u001b[38;5;28;01mif\u001b[39;00m k \u001b[38;5;129;01min\u001b[39;00m [\u001b[33m'\u001b[39m\u001b[33mbase\u001b[39m\u001b[33m'\u001b[39m, \u001b[33m'\u001b[39m\u001b[33msubs\u001b[39m\u001b[33m'\u001b[39m, \u001b[33m'\u001b[39m\u001b[33mnonpositive\u001b[39m\u001b[33m'\u001b[39m,\n\u001b[32m   1963\u001b[39m               \u001b[33m'\u001b[39m\u001b[33mbasex\u001b[39m\u001b[33m'\u001b[39m, \u001b[33m'\u001b[39m\u001b[33msubsx\u001b[39m\u001b[33m'\u001b[39m, \u001b[33m'\u001b[39m\u001b[33mnonposx\u001b[39m\u001b[33m'\u001b[39m]}\n\u001b[32m   1964\u001b[39m \u001b[38;5;28mself\u001b[39m.set_xscale(\u001b[33m'\u001b[39m\u001b[33mlog\u001b[39m\u001b[33m'\u001b[39m, **d)\n\u001b[32m-> \u001b[39m\u001b[32m1965\u001b[39m \u001b[38;5;28;01mreturn\u001b[39;00m \u001b[38;5;28;43mself\u001b[39;49m\u001b[43m.\u001b[49m\u001b[43mplot\u001b[49m\u001b[43m(\u001b[49m\n\u001b[32m   1966\u001b[39m \u001b[43m    \u001b[49m\u001b[43m*\u001b[49m\u001b[43margs\u001b[49m\u001b[43m,\u001b[49m\u001b[43m \u001b[49m\u001b[43m*\u001b[49m\u001b[43m*\u001b[49m\u001b[43m{\u001b[49m\u001b[43mk\u001b[49m\u001b[43m:\u001b[49m\u001b[43m \u001b[49m\u001b[43mv\u001b[49m\u001b[43m \u001b[49m\u001b[38;5;28;43;01mfor\u001b[39;49;00m\u001b[43m \u001b[49m\u001b[43mk\u001b[49m\u001b[43m,\u001b[49m\u001b[43m \u001b[49m\u001b[43mv\u001b[49m\u001b[43m \u001b[49m\u001b[38;5;129;43;01min\u001b[39;49;00m\u001b[43m \u001b[49m\u001b[43mkwargs\u001b[49m\u001b[43m.\u001b[49m\u001b[43mitems\u001b[49m\u001b[43m(\u001b[49m\u001b[43m)\u001b[49m\u001b[43m \u001b[49m\u001b[38;5;28;43;01mif\u001b[39;49;00m\u001b[43m \u001b[49m\u001b[43mk\u001b[49m\u001b[43m \u001b[49m\u001b[38;5;129;43;01mnot\u001b[39;49;00m\u001b[43m \u001b[49m\u001b[38;5;129;43;01min\u001b[39;49;00m\u001b[43m \u001b[49m\u001b[43md\u001b[49m\u001b[43m}\u001b[49m\u001b[43m)\u001b[49m\n",
            "\u001b[36mFile \u001b[39m\u001b[32m~\\miniconda3\\Lib\\site-packages\\matplotlib\\axes\\_axes.py:1777\u001b[39m, in \u001b[36mAxes.plot\u001b[39m\u001b[34m(self, scalex, scaley, data, *args, **kwargs)\u001b[39m\n\u001b[32m   1534\u001b[39m \u001b[38;5;250m\u001b[39m\u001b[33;03m\"\"\"\u001b[39;00m\n\u001b[32m   1535\u001b[39m \u001b[33;03mPlot y versus x as lines and/or markers.\u001b[39;00m\n\u001b[32m   1536\u001b[39m \n\u001b[32m   (...)\u001b[39m\u001b[32m   1774\u001b[39m \u001b[33;03m(``'green'``) or hex strings (``'#008000'``).\u001b[39;00m\n\u001b[32m   1775\u001b[39m \u001b[33;03m\"\"\"\u001b[39;00m\n\u001b[32m   1776\u001b[39m kwargs = cbook.normalize_kwargs(kwargs, mlines.Line2D)\n\u001b[32m-> \u001b[39m\u001b[32m1777\u001b[39m lines = [*\u001b[38;5;28mself\u001b[39m._get_lines(\u001b[38;5;28mself\u001b[39m, *args, data=data, **kwargs)]\n\u001b[32m   1778\u001b[39m \u001b[38;5;28;01mfor\u001b[39;00m line \u001b[38;5;129;01min\u001b[39;00m lines:\n\u001b[32m   1779\u001b[39m     \u001b[38;5;28mself\u001b[39m.add_line(line)\n",
            "\u001b[36mFile \u001b[39m\u001b[32m~\\miniconda3\\Lib\\site-packages\\matplotlib\\axes\\_base.py:297\u001b[39m, in \u001b[36m_process_plot_var_args.__call__\u001b[39m\u001b[34m(self, axes, data, return_kwargs, *args, **kwargs)\u001b[39m\n\u001b[32m    295\u001b[39m     this += args[\u001b[32m0\u001b[39m],\n\u001b[32m    296\u001b[39m     args = args[\u001b[32m1\u001b[39m:]\n\u001b[32m--> \u001b[39m\u001b[32m297\u001b[39m \u001b[38;5;28;01myield from\u001b[39;00m \u001b[38;5;28;43mself\u001b[39;49m\u001b[43m.\u001b[49m\u001b[43m_plot_args\u001b[49m\u001b[43m(\u001b[49m\n\u001b[32m    298\u001b[39m \u001b[43m    \u001b[49m\u001b[43maxes\u001b[49m\u001b[43m,\u001b[49m\u001b[43m \u001b[49m\u001b[43mthis\u001b[49m\u001b[43m,\u001b[49m\u001b[43m \u001b[49m\u001b[43mkwargs\u001b[49m\u001b[43m,\u001b[49m\u001b[43m \u001b[49m\u001b[43mambiguous_fmt_datakey\u001b[49m\u001b[43m=\u001b[49m\u001b[43mambiguous_fmt_datakey\u001b[49m\u001b[43m,\u001b[49m\n\u001b[32m    299\u001b[39m \u001b[43m    \u001b[49m\u001b[43mreturn_kwargs\u001b[49m\u001b[43m=\u001b[49m\u001b[43mreturn_kwargs\u001b[49m\n\u001b[32m    300\u001b[39m \u001b[43m\u001b[49m\u001b[43m)\u001b[49m\n",
            "\u001b[36mFile \u001b[39m\u001b[32m~\\miniconda3\\Lib\\site-packages\\matplotlib\\axes\\_base.py:494\u001b[39m, in \u001b[36m_process_plot_var_args._plot_args\u001b[39m\u001b[34m(self, axes, tup, kwargs, return_kwargs, ambiguous_fmt_datakey)\u001b[39m\n\u001b[32m    491\u001b[39m     axes.yaxis.update_units(y)\n\u001b[32m    493\u001b[39m \u001b[38;5;28;01mif\u001b[39;00m x.shape[\u001b[32m0\u001b[39m] != y.shape[\u001b[32m0\u001b[39m]:\n\u001b[32m--> \u001b[39m\u001b[32m494\u001b[39m     \u001b[38;5;28;01mraise\u001b[39;00m \u001b[38;5;167;01mValueError\u001b[39;00m(\u001b[33mf\u001b[39m\u001b[33m\"\u001b[39m\u001b[33mx and y must have same first dimension, but \u001b[39m\u001b[33m\"\u001b[39m\n\u001b[32m    495\u001b[39m                      \u001b[33mf\u001b[39m\u001b[33m\"\u001b[39m\u001b[33mhave shapes \u001b[39m\u001b[38;5;132;01m{\u001b[39;00mx.shape\u001b[38;5;132;01m}\u001b[39;00m\u001b[33m and \u001b[39m\u001b[38;5;132;01m{\u001b[39;00my.shape\u001b[38;5;132;01m}\u001b[39;00m\u001b[33m\"\u001b[39m)\n\u001b[32m    496\u001b[39m \u001b[38;5;28;01mif\u001b[39;00m x.ndim > \u001b[32m2\u001b[39m \u001b[38;5;129;01mor\u001b[39;00m y.ndim > \u001b[32m2\u001b[39m:\n\u001b[32m    497\u001b[39m     \u001b[38;5;28;01mraise\u001b[39;00m \u001b[38;5;167;01mValueError\u001b[39;00m(\u001b[33mf\u001b[39m\u001b[33m\"\u001b[39m\u001b[33mx and y can be no greater than 2D, but have \u001b[39m\u001b[33m\"\u001b[39m\n\u001b[32m    498\u001b[39m                      \u001b[33mf\u001b[39m\u001b[33m\"\u001b[39m\u001b[33mshapes \u001b[39m\u001b[38;5;132;01m{\u001b[39;00mx.shape\u001b[38;5;132;01m}\u001b[39;00m\u001b[33m and \u001b[39m\u001b[38;5;132;01m{\u001b[39;00my.shape\u001b[38;5;132;01m}\u001b[39;00m\u001b[33m\"\u001b[39m)\n",
            "\u001b[31mValueError\u001b[39m: x and y must have same first dimension, but have shapes (1,) and (5,)"
          ]
        },
        {
          "data": {
            "image/png": "[encoded data removed]",
            "text/plain": [
              "<Figure size 600x600 with 1 Axes>"
            ]
          },
          "metadata": {},
          "output_type": "display_data"
        }
      ],
      "source": [
        "X_tr, X_te, y_tr, y_te = train_test_split(X, y, random_state=seed)\n",
        "y_tr = y_tr.values.ravel()\n",
        "y_te = y_te.values.ravel()\n",
        "\n",
        "figure, axes = plt.subplots(1, figsize=(6, 6))\n",
        "\n",
        "axes.set_xlabel(\"n\")\n",
        "axes.set_ylabel(\"Error Rate\")\n",
        "n = [100, 1000, 5000, 10000, 50000]\n",
        "te_error = []\n",
        "tr_error = []\n",
        "\n",
        "for i, n in enumerate(n):\n",
        "    knn = KNeighborsClassifier(n_neighbors=5)\n",
        "    nX_tr, nX_te, ny_tr, ny_te = X_tr[:n], X_te[:n], y_tr[:n], y_te[:n]\n",
        "    knn.fit(nX_tr, ny_tr)\n",
        "    y_pred_te = knn.predict(nX_te)\n",
        "    y_pred_tr = knn.predict(nX_tr)\n",
        "    e_te = 1 - accuracy_score(ny_te, y_pred_te)\n",
        "    e_tr = 1 - accuracy_score(ny_tr, y_pred_tr)\n",
        "    te_error.append(e_te)\n",
        "    tr_error.append(e_tr)\n",
        "axes.semilogx(n, te_error, color='red', label='Test')\n",
        "axes.semilogx(n, tr_error, color='green', label='Train')\n",
        "axes.legend()"
      ]
    }
  ],
  "metadata": {
    "colab": {
      "provenance": []
    },
    "kernelspec": {
      "display_name": "Python (cs178_env)",
      "language": "python",
      "name": "cs178_env"
    },
    "language_info": {
      "codemirror_mode": {
        "name": "ipython",
        "version": 3
      },
      "file_extension": ".py",
      "mimetype": "text/x-python",
      "name": "python",
      "nbconvert_exporter": "python",
      "pygments_lexer": "ipython3",
      "version": "3.13.2"
    }
  },
  "nbformat": 4,
  "nbformat_minor": 0
}
